{
 "cells": [
  {
   "cell_type": "code",
   "execution_count": 2,
   "id": "5f272464-d3de-4608-a323-7719528a5e3b",
   "metadata": {},
   "outputs": [],
   "source": [
    "import pandas as pd\n",
    "import numpy as np\n",
    "\n",
    "# Grafik kütüphaneleri (ileride lazım olacak)\n",
    "import matplotlib.pyplot as plt\n",
    "import seaborn as sns\n",
    "\n",
    "pd.set_option('display.max_columns', None)"
   ]
  },
  {
   "cell_type": "code",
   "execution_count": 10,
   "id": "25a83d07-1919-4db2-81f4-00515c2534e5",
   "metadata": {},
   "outputs": [
    {
     "name": "stdout",
     "output_type": "stream",
     "text": [
      "✅ Faiz Verisi Başarıyla Yüklendi ve Temizlendi (İlk 5 Satır):\n",
      "       Tarih  Politika_Faizi\n",
      "0 2002-02-20            62.0\n",
      "1 2002-03-14            61.0\n",
      "2 2002-04-08            58.0\n",
      "3 2002-04-30            55.0\n",
      "4 2002-08-05            53.0\n",
      "\n",
      "Veri Tipleri:\n",
      "<class 'pandas.core.frame.DataFrame'>\n",
      "RangeIndex: 127 entries, 0 to 126\n",
      "Data columns (total 2 columns):\n",
      " #   Column          Non-Null Count  Dtype         \n",
      "---  ------          --------------  -----         \n",
      " 0   Tarih           127 non-null    datetime64[ns]\n",
      " 1   Politika_Faizi  92 non-null     float64       \n",
      "dtypes: datetime64[ns](1), float64(1)\n",
      "memory usage: 2.1 KB\n",
      "None\n"
     ]
    }
   ],
   "source": [
    "\n",
    "# 1. Veriyi Oku (Tam Dosya Yolu Kullanıldı)\n",
    "# Lütfen TAM_DOSYA_YOLU kısmını kopyaladığınız yolla değiştirin.\n",
    "# Örnek: r'C:\\Users\\ozlem\\OneDrive\\Masaüstü\\turkiye-enflasyon-analizi\\data\\tcmb_faiz_oranlari.csv'\n",
    "TAM_DOSYA_YOLU = r'C:\\Users\\ozlem\\OneDrive\\Masaüstü\\turkiye-enflasyon-analizi\\data\\tcmb_faiz_oranlari.csv'\n",
    "df_faiz = pd.read_csv(TAM_DOSYA_YOLU, sep=';')\n",
    "\n",
    "# 2. Sütunları Seç ve Yeniden Adlandır\n",
    "df_faiz = df_faiz.rename(columns={'Tarih': 'Tarih', 'Borç Verme': 'Politika_Faizi'})\n",
    "df_faiz = df_faiz[['Tarih', 'Politika_Faizi']]\n",
    "\n",
    "# 3. Veri Tiplerini Düzenle\n",
    "\n",
    "# Tarih sütununu datetime formatına çevir\n",
    "df_faiz['Tarih'] = pd.to_datetime(df_faiz['Tarih'], format='%d.%m.%Y', errors='coerce')\n",
    "\n",
    "# Politika Faizi sütununu sayıya (float) çevir (Metin değerler NaN olacak)\n",
    "df_faiz['Politika_Faizi'] = pd.to_numeric(df_faiz['Politika_Faizi'], errors='coerce')\n",
    "\n",
    "# 4. Veriyi Sonlandırma\n",
    "df_faiz.dropna(subset=['Tarih'], inplace=True)\n",
    "df_faiz = df_faiz.sort_values(by='Tarih').reset_index(drop=True)\n",
    "\n",
    "print(\"✅ Faiz Verisi Başarıyla Yüklendi ve Temizlendi (İlk 5 Satır):\")\n",
    "print(df_faiz.head())\n",
    "print(\"\\nVeri Tipleri:\")\n",
    "print(df_faiz.info())\n"
   ]
  },
  {
   "cell_type": "code",
   "execution_count": 11,
   "id": "c35c7d45-c60c-4e09-b1e6-047d1514326b",
   "metadata": {},
   "outputs": [
    {
     "name": "stdout",
     "output_type": "stream",
     "text": [
      "✅ Enflasyon Verisi Düzeltildi (İlk 5 Satır):\n",
      "       Tarih  Yillik_Degisim  Aylik_Degisim\n",
      "0 2005-01-01          0.0924         0.0055\n",
      "1 2005-02-01          0.0869         0.0002\n",
      "2 2005-03-01          0.0794         0.0026\n",
      "3 2005-04-01          0.0818         0.0071\n",
      "4 2005-05-01          0.0087         0.0092\n",
      "\n",
      "Veri Tipleri (Kontrol):\n",
      "<class 'pandas.core.frame.DataFrame'>\n",
      "RangeIndex: 247 entries, 0 to 246\n",
      "Data columns (total 3 columns):\n",
      " #   Column          Non-Null Count  Dtype         \n",
      "---  ------          --------------  -----         \n",
      " 0   Tarih           247 non-null    datetime64[ns]\n",
      " 1   Yillik_Degisim  247 non-null    float64       \n",
      " 2   Aylik_Degisim   247 non-null    float64       \n",
      "dtypes: datetime64[ns](1), float64(2)\n",
      "memory usage: 5.9 KB\n",
      "None\n"
     ]
    }
   ],
   "source": [
    "# Sadece sayısal sütunları 100'e bölerek ondalık hale getiriyoruz\n",
    "df_enflasyon['Yillik_Degisim'] = df_enflasyon['Yillik_Degisim'] / 100\n",
    "df_enflasyon['Aylik_Degisim'] = df_enflasyon['Aylik_Degisim'] / 100\n",
    "\n",
    "# Veri tiplerini float'a (ondalıklı sayı) çeviriyoruz (zaten float olacaklar)\n",
    "df_enflasyon['Yillik_Degisim'] = df_enflasyon['Yillik_Degisim'].astype(float)\n",
    "df_enflasyon['Aylik_Degisim'] = df_enflasyon['Aylik_Degisim'].astype(float)\n",
    "\n",
    "\n",
    "print(\"✅ Enflasyon Verisi Düzeltildi (İlk 5 Satır):\")\n",
    "print(df_enflasyon.head())\n",
    "print(\"\\nVeri Tipleri (Kontrol):\")\n",
    "print(df_enflasyon.info())"
   ]
  },
  {
   "cell_type": "code",
   "execution_count": 13,
   "id": "2c7b7980-21e8-4d41-9d23-d69f5423812c",
   "metadata": {},
   "outputs": [
    {
     "name": "stdout",
     "output_type": "stream",
     "text": [
      "✅ Veriler Birleştirildi (İlk 10 Satır):\n",
      "       Tarih  Yillik_Degisim  Aylik_Degisim  Politika_Faizi\n",
      "0 2005-01-01             924             55             NaN\n",
      "1 2005-02-01             869              2             NaN\n",
      "2 2005-03-01             794             26             NaN\n",
      "3 2005-04-01             818             71             NaN\n",
      "4 2005-05-01              87             92             NaN\n",
      "5 2005-06-01             895              1             NaN\n",
      "6 2005-07-01             782            -57             NaN\n",
      "7 2005-08-01             791             85             NaN\n",
      "8 2005-09-01             799            102             NaN\n",
      "9 2005-10-01             752            179             NaN\n",
      "\n",
      "Eksik Veri Kontrolü:\n",
      "Tarih               0\n",
      "Yillik_Degisim      0\n",
      "Aylik_Degisim       0\n",
      "Politika_Faizi    246\n",
      "dtype: int64\n"
     ]
    }
   ],
   "source": [
    "# 'Tarih' sütununu baz alarak iki tabloyu birleştiriyoruz.\n",
    "# 'left' merge kullanıyoruz ki, tüm enflasyon verilerine faiz verileri de eşleşsin.\n",
    "df_birlesik = pd.merge(df_enflasyon, df_faiz, on='Tarih', how='left')\n",
    "\n",
    "print(\"✅ Veriler Birleştirildi (İlk 10 Satır):\")\n",
    "print(df_birlesik.head(10))\n",
    "print(\"\\nEksik Veri Kontrolü:\")\n",
    "print(df_birlesik.isnull().sum())"
   ]
  },
  {
   "cell_type": "code",
   "execution_count": 14,
   "id": "7e81fce9-d800-44a3-b577-5181f87c4e99",
   "metadata": {},
   "outputs": [
    {
     "name": "stdout",
     "output_type": "stream",
     "text": [
      "✅ Eksik Veriler Tamamlandı (Kontrol):\n",
      "       Tarih  Yillik_Degisim  Aylik_Degisim  Politika_Faizi\n",
      "0 2005-01-01             924             55            16.5\n",
      "1 2005-02-01             869              2            16.5\n",
      "2 2005-03-01             794             26            16.5\n",
      "3 2005-04-01             818             71            16.5\n",
      "4 2005-05-01              87             92            16.5\n",
      "5 2005-06-01             895              1            16.5\n",
      "6 2005-07-01             782            -57            16.5\n",
      "7 2005-08-01             791             85            16.5\n",
      "8 2005-09-01             799            102            16.5\n",
      "9 2005-10-01             752            179            16.5\n",
      "\n",
      "Son Eksik Veri Kontrolü:\n",
      "Tarih             0\n",
      "Yillik_Degisim    0\n",
      "Aylik_Degisim     0\n",
      "Politika_Faizi    0\n",
      "dtype: int64\n"
     ]
    },
    {
     "name": "stderr",
     "output_type": "stream",
     "text": [
      "C:\\Users\\ozlem\\AppData\\Local\\Temp\\ipykernel_18500\\1481436705.py:2: FutureWarning: A value is trying to be set on a copy of a DataFrame or Series through chained assignment using an inplace method.\n",
      "The behavior will change in pandas 3.0. This inplace method will never work because the intermediate object on which we are setting values always behaves as a copy.\n",
      "\n",
      "For example, when doing 'df[col].method(value, inplace=True)', try using 'df.method({col: value}, inplace=True)' or df[col] = df[col].method(value) instead, to perform the operation inplace on the original object.\n",
      "\n",
      "\n",
      "  df_birlesik['Politika_Faizi'].fillna(method='ffill', inplace=True)\n",
      "C:\\Users\\ozlem\\AppData\\Local\\Temp\\ipykernel_18500\\1481436705.py:2: FutureWarning: Series.fillna with 'method' is deprecated and will raise in a future version. Use obj.ffill() or obj.bfill() instead.\n",
      "  df_birlesik['Politika_Faizi'].fillna(method='ffill', inplace=True)\n",
      "C:\\Users\\ozlem\\AppData\\Local\\Temp\\ipykernel_18500\\1481436705.py:6: FutureWarning: A value is trying to be set on a copy of a DataFrame or Series through chained assignment using an inplace method.\n",
      "The behavior will change in pandas 3.0. This inplace method will never work because the intermediate object on which we are setting values always behaves as a copy.\n",
      "\n",
      "For example, when doing 'df[col].method(value, inplace=True)', try using 'df.method({col: value}, inplace=True)' or df[col] = df[col].method(value) instead, to perform the operation inplace on the original object.\n",
      "\n",
      "\n",
      "  df_birlesik['Politika_Faizi'].fillna(method='bfill', inplace=True)\n",
      "C:\\Users\\ozlem\\AppData\\Local\\Temp\\ipykernel_18500\\1481436705.py:6: FutureWarning: Series.fillna with 'method' is deprecated and will raise in a future version. Use obj.ffill() or obj.bfill() instead.\n",
      "  df_birlesik['Politika_Faizi'].fillna(method='bfill', inplace=True)\n"
     ]
    }
   ],
   "source": [
    "# Eksik faiz değerlerini, kendisinden önceki son geçerli değerle dolduruyoruz.\n",
    "df_birlesik['Politika_Faizi'].fillna(method='ffill', inplace=True)\n",
    "\n",
    "# İlerideki eksik verileri önlemek için, geriye dönük de bir doldurma yapalım.\n",
    "# Enflasyon tablosunun başlangıcından önce faiz kararları varsa, o faiz oranıyla doldurur.\n",
    "df_birlesik['Politika_Faizi'].fillna(method='bfill', inplace=True)\n",
    "\n",
    "\n",
    "print(\"✅ Eksik Veriler Tamamlandı (Kontrol):\")\n",
    "print(df_birlesik.head(10))\n",
    "print(\"\\nSon Eksik Veri Kontrolü:\")\n",
    "print(df_birlesik.isnull().sum())"
   ]
  },
  {
   "cell_type": "code",
   "execution_count": 15,
   "id": "571d29b8-f2b0-4541-aba9-5b7b29d781d4",
   "metadata": {},
   "outputs": [
    {
     "name": "stdout",
     "output_type": "stream",
     "text": [
      "✅ Son Düzeltme Yapıldı (Kontrol):\n",
      "       Tarih  Yillik_Degisim  Aylik_Degisim  Politika_Faizi\n",
      "0 2005-01-01            9.24           0.55            16.5\n",
      "1 2005-02-01            8.69           0.02            16.5\n",
      "2 2005-03-01            7.94           0.26            16.5\n",
      "3 2005-04-01            8.18           0.71            16.5\n",
      "4 2005-05-01            0.87           0.92            16.5\n"
     ]
    }
   ],
   "source": [
    "# Yıllık ve Aylık Değişim değerlerini 100'e bölerek doğru ondalık formatına getiriyoruz\n",
    "df_birlesik['Yillik_Degisim'] = df_birlesik['Yillik_Degisim'] / 100\n",
    "df_birlesik['Aylik_Degisim'] = df_birlesik['Aylik_Degisim'] / 100\n",
    "\n",
    "print(\"✅ Son Düzeltme Yapıldı (Kontrol):\")\n",
    "print(df_birlesik.head())"
   ]
  },
  {
   "cell_type": "code",
   "execution_count": null,
   "id": "6b2004b8-8058-4386-be66-813f4303afe1",
   "metadata": {},
   "outputs": [],
   "source": []
  }
 ],
 "metadata": {
  "kernelspec": {
   "display_name": "Python 3 (ipykernel)",
   "language": "python",
   "name": "python3"
  },
  "language_info": {
   "codemirror_mode": {
    "name": "ipython",
    "version": 3
   },
   "file_extension": ".py",
   "mimetype": "text/x-python",
   "name": "python",
   "nbconvert_exporter": "python",
   "pygments_lexer": "ipython3",
   "version": "3.13.6"
  }
 },
 "nbformat": 4,
 "nbformat_minor": 5
}
